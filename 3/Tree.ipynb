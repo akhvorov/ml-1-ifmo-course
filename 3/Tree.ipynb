{
 "cells": [
  {
   "cell_type": "code",
   "execution_count": 1,
   "metadata": {},
   "outputs": [
    {
     "name": "stderr",
     "output_type": "stream",
     "text": [
      "/anaconda3/lib/python3.6/importlib/_bootstrap.py:219: RuntimeWarning: numpy.dtype size changed, may indicate binary incompatibility. Expected 96, got 88\n",
      "  return f(*args, **kwds)\n",
      "/anaconda3/lib/python3.6/importlib/_bootstrap.py:219: RuntimeWarning: numpy.dtype size changed, may indicate binary incompatibility. Expected 96, got 88\n",
      "  return f(*args, **kwds)\n",
      "/anaconda3/lib/python3.6/importlib/_bootstrap.py:219: RuntimeWarning: numpy.dtype size changed, may indicate binary incompatibility. Expected 96, got 88\n",
      "  return f(*args, **kwds)\n",
      "/anaconda3/lib/python3.6/importlib/_bootstrap.py:219: RuntimeWarning: numpy.dtype size changed, may indicate binary incompatibility. Expected 96, got 88\n",
      "  return f(*args, **kwds)\n",
      "/anaconda3/lib/python3.6/importlib/_bootstrap.py:219: RuntimeWarning: numpy.dtype size changed, may indicate binary incompatibility. Expected 96, got 88\n",
      "  return f(*args, **kwds)\n",
      "/anaconda3/lib/python3.6/importlib/_bootstrap.py:219: RuntimeWarning: numpy.dtype size changed, may indicate binary incompatibility. Expected 96, got 88\n",
      "  return f(*args, **kwds)\n"
     ]
    }
   ],
   "source": [
    "from collections import Counter\n",
    "import pandas as pd\n",
    "import numpy as np\n",
    "import matplotlib.pyplot as plt\n",
    "from sklearn.model_selection import train_test_split"
   ]
  },
  {
   "cell_type": "code",
   "execution_count": 2,
   "metadata": {},
   "outputs": [
    {
     "name": "stdout",
     "output_type": "stream",
     "text": [
      "(569, 31)\n"
     ]
    },
    {
     "data": {
      "text/html": [
       "<div>\n",
       "<style scoped>\n",
       "    .dataframe tbody tr th:only-of-type {\n",
       "        vertical-align: middle;\n",
       "    }\n",
       "\n",
       "    .dataframe tbody tr th {\n",
       "        vertical-align: top;\n",
       "    }\n",
       "\n",
       "    .dataframe thead th {\n",
       "        text-align: right;\n",
       "    }\n",
       "</style>\n",
       "<table border=\"1\" class=\"dataframe\">\n",
       "  <thead>\n",
       "    <tr style=\"text-align: right;\">\n",
       "      <th></th>\n",
       "      <th>label</th>\n",
       "      <th>1</th>\n",
       "      <th>2</th>\n",
       "      <th>3</th>\n",
       "      <th>4</th>\n",
       "      <th>5</th>\n",
       "      <th>6</th>\n",
       "      <th>7</th>\n",
       "      <th>8</th>\n",
       "      <th>9</th>\n",
       "      <th>...</th>\n",
       "      <th>21</th>\n",
       "      <th>22</th>\n",
       "      <th>23</th>\n",
       "      <th>24</th>\n",
       "      <th>25</th>\n",
       "      <th>26</th>\n",
       "      <th>27</th>\n",
       "      <th>28</th>\n",
       "      <th>29</th>\n",
       "      <th>30</th>\n",
       "    </tr>\n",
       "  </thead>\n",
       "  <tbody>\n",
       "    <tr>\n",
       "      <th>0</th>\n",
       "      <td>M</td>\n",
       "      <td>17.99</td>\n",
       "      <td>10.38</td>\n",
       "      <td>122.80</td>\n",
       "      <td>1001.0</td>\n",
       "      <td>0.11840</td>\n",
       "      <td>0.27760</td>\n",
       "      <td>0.3001</td>\n",
       "      <td>0.14710</td>\n",
       "      <td>0.2419</td>\n",
       "      <td>...</td>\n",
       "      <td>25.38</td>\n",
       "      <td>17.33</td>\n",
       "      <td>184.60</td>\n",
       "      <td>2019.0</td>\n",
       "      <td>0.1622</td>\n",
       "      <td>0.6656</td>\n",
       "      <td>0.7119</td>\n",
       "      <td>0.2654</td>\n",
       "      <td>0.4601</td>\n",
       "      <td>0.11890</td>\n",
       "    </tr>\n",
       "    <tr>\n",
       "      <th>1</th>\n",
       "      <td>M</td>\n",
       "      <td>20.57</td>\n",
       "      <td>17.77</td>\n",
       "      <td>132.90</td>\n",
       "      <td>1326.0</td>\n",
       "      <td>0.08474</td>\n",
       "      <td>0.07864</td>\n",
       "      <td>0.0869</td>\n",
       "      <td>0.07017</td>\n",
       "      <td>0.1812</td>\n",
       "      <td>...</td>\n",
       "      <td>24.99</td>\n",
       "      <td>23.41</td>\n",
       "      <td>158.80</td>\n",
       "      <td>1956.0</td>\n",
       "      <td>0.1238</td>\n",
       "      <td>0.1866</td>\n",
       "      <td>0.2416</td>\n",
       "      <td>0.1860</td>\n",
       "      <td>0.2750</td>\n",
       "      <td>0.08902</td>\n",
       "    </tr>\n",
       "    <tr>\n",
       "      <th>2</th>\n",
       "      <td>M</td>\n",
       "      <td>19.69</td>\n",
       "      <td>21.25</td>\n",
       "      <td>130.00</td>\n",
       "      <td>1203.0</td>\n",
       "      <td>0.10960</td>\n",
       "      <td>0.15990</td>\n",
       "      <td>0.1974</td>\n",
       "      <td>0.12790</td>\n",
       "      <td>0.2069</td>\n",
       "      <td>...</td>\n",
       "      <td>23.57</td>\n",
       "      <td>25.53</td>\n",
       "      <td>152.50</td>\n",
       "      <td>1709.0</td>\n",
       "      <td>0.1444</td>\n",
       "      <td>0.4245</td>\n",
       "      <td>0.4504</td>\n",
       "      <td>0.2430</td>\n",
       "      <td>0.3613</td>\n",
       "      <td>0.08758</td>\n",
       "    </tr>\n",
       "    <tr>\n",
       "      <th>3</th>\n",
       "      <td>M</td>\n",
       "      <td>11.42</td>\n",
       "      <td>20.38</td>\n",
       "      <td>77.58</td>\n",
       "      <td>386.1</td>\n",
       "      <td>0.14250</td>\n",
       "      <td>0.28390</td>\n",
       "      <td>0.2414</td>\n",
       "      <td>0.10520</td>\n",
       "      <td>0.2597</td>\n",
       "      <td>...</td>\n",
       "      <td>14.91</td>\n",
       "      <td>26.50</td>\n",
       "      <td>98.87</td>\n",
       "      <td>567.7</td>\n",
       "      <td>0.2098</td>\n",
       "      <td>0.8663</td>\n",
       "      <td>0.6869</td>\n",
       "      <td>0.2575</td>\n",
       "      <td>0.6638</td>\n",
       "      <td>0.17300</td>\n",
       "    </tr>\n",
       "    <tr>\n",
       "      <th>4</th>\n",
       "      <td>M</td>\n",
       "      <td>20.29</td>\n",
       "      <td>14.34</td>\n",
       "      <td>135.10</td>\n",
       "      <td>1297.0</td>\n",
       "      <td>0.10030</td>\n",
       "      <td>0.13280</td>\n",
       "      <td>0.1980</td>\n",
       "      <td>0.10430</td>\n",
       "      <td>0.1809</td>\n",
       "      <td>...</td>\n",
       "      <td>22.54</td>\n",
       "      <td>16.67</td>\n",
       "      <td>152.20</td>\n",
       "      <td>1575.0</td>\n",
       "      <td>0.1374</td>\n",
       "      <td>0.2050</td>\n",
       "      <td>0.4000</td>\n",
       "      <td>0.1625</td>\n",
       "      <td>0.2364</td>\n",
       "      <td>0.07678</td>\n",
       "    </tr>\n",
       "  </tbody>\n",
       "</table>\n",
       "<p>5 rows × 31 columns</p>\n",
       "</div>"
      ],
      "text/plain": [
       "  label      1      2       3       4        5        6       7        8  \\\n",
       "0     M  17.99  10.38  122.80  1001.0  0.11840  0.27760  0.3001  0.14710   \n",
       "1     M  20.57  17.77  132.90  1326.0  0.08474  0.07864  0.0869  0.07017   \n",
       "2     M  19.69  21.25  130.00  1203.0  0.10960  0.15990  0.1974  0.12790   \n",
       "3     M  11.42  20.38   77.58   386.1  0.14250  0.28390  0.2414  0.10520   \n",
       "4     M  20.29  14.34  135.10  1297.0  0.10030  0.13280  0.1980  0.10430   \n",
       "\n",
       "        9   ...        21     22      23      24      25      26      27  \\\n",
       "0  0.2419   ...     25.38  17.33  184.60  2019.0  0.1622  0.6656  0.7119   \n",
       "1  0.1812   ...     24.99  23.41  158.80  1956.0  0.1238  0.1866  0.2416   \n",
       "2  0.2069   ...     23.57  25.53  152.50  1709.0  0.1444  0.4245  0.4504   \n",
       "3  0.2597   ...     14.91  26.50   98.87   567.7  0.2098  0.8663  0.6869   \n",
       "4  0.1809   ...     22.54  16.67  152.20  1575.0  0.1374  0.2050  0.4000   \n",
       "\n",
       "       28      29       30  \n",
       "0  0.2654  0.4601  0.11890  \n",
       "1  0.1860  0.2750  0.08902  \n",
       "2  0.2430  0.3613  0.08758  \n",
       "3  0.2575  0.6638  0.17300  \n",
       "4  0.1625  0.2364  0.07678  \n",
       "\n",
       "[5 rows x 31 columns]"
      ]
     },
     "execution_count": 2,
     "metadata": {},
     "output_type": "execute_result"
    }
   ],
   "source": [
    "cancer_data = pd.read_csv(\"../datasets/cancer.csv\")\n",
    "print(cancer_data.shape)\n",
    "cancer_labels = np.array([1 if l == 'M' else 0 for l in cancer_data['label'].values])\n",
    "cancer_features = cancer_data.drop(['label'], axis=1).values\n",
    "cancer_data.head()"
   ]
  },
  {
   "cell_type": "code",
   "execution_count": 3,
   "metadata": {},
   "outputs": [
    {
     "name": "stdout",
     "output_type": "stream",
     "text": [
      "(4601, 58)\n"
     ]
    },
    {
     "data": {
      "text/html": [
       "<div>\n",
       "<style scoped>\n",
       "    .dataframe tbody tr th:only-of-type {\n",
       "        vertical-align: middle;\n",
       "    }\n",
       "\n",
       "    .dataframe tbody tr th {\n",
       "        vertical-align: top;\n",
       "    }\n",
       "\n",
       "    .dataframe thead th {\n",
       "        text-align: right;\n",
       "    }\n",
       "</style>\n",
       "<table border=\"1\" class=\"dataframe\">\n",
       "  <thead>\n",
       "    <tr style=\"text-align: right;\">\n",
       "      <th></th>\n",
       "      <th>word_freq_make</th>\n",
       "      <th>word_freq_address</th>\n",
       "      <th>word_freq_all</th>\n",
       "      <th>word_freq_3d</th>\n",
       "      <th>word_freq_our</th>\n",
       "      <th>word_freq_over</th>\n",
       "      <th>word_freq_remove</th>\n",
       "      <th>word_freq_internet</th>\n",
       "      <th>word_freq_order</th>\n",
       "      <th>word_freq_mail</th>\n",
       "      <th>...</th>\n",
       "      <th>char_freq_:</th>\n",
       "      <th>char_freq_(</th>\n",
       "      <th>char_freq_[</th>\n",
       "      <th>char_freq_!</th>\n",
       "      <th>char_freq_$</th>\n",
       "      <th>char_freq_#</th>\n",
       "      <th>capital_run_length_average</th>\n",
       "      <th>capital_run_length_longest</th>\n",
       "      <th>capital_run_length_total</th>\n",
       "      <th>label</th>\n",
       "    </tr>\n",
       "  </thead>\n",
       "  <tbody>\n",
       "    <tr>\n",
       "      <th>0</th>\n",
       "      <td>0.00</td>\n",
       "      <td>0.64</td>\n",
       "      <td>0.64</td>\n",
       "      <td>0.0</td>\n",
       "      <td>0.32</td>\n",
       "      <td>0.00</td>\n",
       "      <td>0.00</td>\n",
       "      <td>0.00</td>\n",
       "      <td>0.00</td>\n",
       "      <td>0.00</td>\n",
       "      <td>...</td>\n",
       "      <td>0.00</td>\n",
       "      <td>0.000</td>\n",
       "      <td>0.0</td>\n",
       "      <td>0.778</td>\n",
       "      <td>0.000</td>\n",
       "      <td>0.000</td>\n",
       "      <td>3.756</td>\n",
       "      <td>61</td>\n",
       "      <td>278</td>\n",
       "      <td>1</td>\n",
       "    </tr>\n",
       "    <tr>\n",
       "      <th>1</th>\n",
       "      <td>0.21</td>\n",
       "      <td>0.28</td>\n",
       "      <td>0.50</td>\n",
       "      <td>0.0</td>\n",
       "      <td>0.14</td>\n",
       "      <td>0.28</td>\n",
       "      <td>0.21</td>\n",
       "      <td>0.07</td>\n",
       "      <td>0.00</td>\n",
       "      <td>0.94</td>\n",
       "      <td>...</td>\n",
       "      <td>0.00</td>\n",
       "      <td>0.132</td>\n",
       "      <td>0.0</td>\n",
       "      <td>0.372</td>\n",
       "      <td>0.180</td>\n",
       "      <td>0.048</td>\n",
       "      <td>5.114</td>\n",
       "      <td>101</td>\n",
       "      <td>1028</td>\n",
       "      <td>1</td>\n",
       "    </tr>\n",
       "    <tr>\n",
       "      <th>2</th>\n",
       "      <td>0.06</td>\n",
       "      <td>0.00</td>\n",
       "      <td>0.71</td>\n",
       "      <td>0.0</td>\n",
       "      <td>1.23</td>\n",
       "      <td>0.19</td>\n",
       "      <td>0.19</td>\n",
       "      <td>0.12</td>\n",
       "      <td>0.64</td>\n",
       "      <td>0.25</td>\n",
       "      <td>...</td>\n",
       "      <td>0.01</td>\n",
       "      <td>0.143</td>\n",
       "      <td>0.0</td>\n",
       "      <td>0.276</td>\n",
       "      <td>0.184</td>\n",
       "      <td>0.010</td>\n",
       "      <td>9.821</td>\n",
       "      <td>485</td>\n",
       "      <td>2259</td>\n",
       "      <td>1</td>\n",
       "    </tr>\n",
       "    <tr>\n",
       "      <th>3</th>\n",
       "      <td>0.00</td>\n",
       "      <td>0.00</td>\n",
       "      <td>0.00</td>\n",
       "      <td>0.0</td>\n",
       "      <td>0.63</td>\n",
       "      <td>0.00</td>\n",
       "      <td>0.31</td>\n",
       "      <td>0.63</td>\n",
       "      <td>0.31</td>\n",
       "      <td>0.63</td>\n",
       "      <td>...</td>\n",
       "      <td>0.00</td>\n",
       "      <td>0.137</td>\n",
       "      <td>0.0</td>\n",
       "      <td>0.137</td>\n",
       "      <td>0.000</td>\n",
       "      <td>0.000</td>\n",
       "      <td>3.537</td>\n",
       "      <td>40</td>\n",
       "      <td>191</td>\n",
       "      <td>1</td>\n",
       "    </tr>\n",
       "    <tr>\n",
       "      <th>4</th>\n",
       "      <td>0.00</td>\n",
       "      <td>0.00</td>\n",
       "      <td>0.00</td>\n",
       "      <td>0.0</td>\n",
       "      <td>0.63</td>\n",
       "      <td>0.00</td>\n",
       "      <td>0.31</td>\n",
       "      <td>0.63</td>\n",
       "      <td>0.31</td>\n",
       "      <td>0.63</td>\n",
       "      <td>...</td>\n",
       "      <td>0.00</td>\n",
       "      <td>0.135</td>\n",
       "      <td>0.0</td>\n",
       "      <td>0.135</td>\n",
       "      <td>0.000</td>\n",
       "      <td>0.000</td>\n",
       "      <td>3.537</td>\n",
       "      <td>40</td>\n",
       "      <td>191</td>\n",
       "      <td>1</td>\n",
       "    </tr>\n",
       "  </tbody>\n",
       "</table>\n",
       "<p>5 rows × 58 columns</p>\n",
       "</div>"
      ],
      "text/plain": [
       "   word_freq_make  word_freq_address  word_freq_all  word_freq_3d  \\\n",
       "0            0.00               0.64           0.64           0.0   \n",
       "1            0.21               0.28           0.50           0.0   \n",
       "2            0.06               0.00           0.71           0.0   \n",
       "3            0.00               0.00           0.00           0.0   \n",
       "4            0.00               0.00           0.00           0.0   \n",
       "\n",
       "   word_freq_our  word_freq_over  word_freq_remove  word_freq_internet  \\\n",
       "0           0.32            0.00              0.00                0.00   \n",
       "1           0.14            0.28              0.21                0.07   \n",
       "2           1.23            0.19              0.19                0.12   \n",
       "3           0.63            0.00              0.31                0.63   \n",
       "4           0.63            0.00              0.31                0.63   \n",
       "\n",
       "   word_freq_order  word_freq_mail  ...    char_freq_:  char_freq_(  \\\n",
       "0             0.00            0.00  ...           0.00        0.000   \n",
       "1             0.00            0.94  ...           0.00        0.132   \n",
       "2             0.64            0.25  ...           0.01        0.143   \n",
       "3             0.31            0.63  ...           0.00        0.137   \n",
       "4             0.31            0.63  ...           0.00        0.135   \n",
       "\n",
       "   char_freq_[  char_freq_!  char_freq_$  char_freq_#  \\\n",
       "0          0.0        0.778        0.000        0.000   \n",
       "1          0.0        0.372        0.180        0.048   \n",
       "2          0.0        0.276        0.184        0.010   \n",
       "3          0.0        0.137        0.000        0.000   \n",
       "4          0.0        0.135        0.000        0.000   \n",
       "\n",
       "   capital_run_length_average  capital_run_length_longest  \\\n",
       "0                       3.756                          61   \n",
       "1                       5.114                         101   \n",
       "2                       9.821                         485   \n",
       "3                       3.537                          40   \n",
       "4                       3.537                          40   \n",
       "\n",
       "   capital_run_length_total  label  \n",
       "0                       278      1  \n",
       "1                      1028      1  \n",
       "2                      2259      1  \n",
       "3                       191      1  \n",
       "4                       191      1  \n",
       "\n",
       "[5 rows x 58 columns]"
      ]
     },
     "execution_count": 3,
     "metadata": {},
     "output_type": "execute_result"
    }
   ],
   "source": [
    "spam_data = pd.read_csv(\"../datasets/spam.csv\")\n",
    "print(spam_data.shape)\n",
    "spam_labels = spam_data['label'].values\n",
    "spam_features = spam_data.drop(['label'], axis=1).values\n",
    "spam_data.head()"
   ]
  },
  {
   "cell_type": "code",
   "execution_count": 39,
   "metadata": {},
   "outputs": [],
   "source": [
    "def roc(y_pr, y_true):\n",
    "    tps = []\n",
    "    fps = []\n",
    "    y_true[y_true == 0]\n",
    "    gt_true = len(y_true[y_true == 1])\n",
    "    gt_false = len(y_true[y_true == 0])\n",
    "    ys = zip(y_pr, y_true)\n",
    "    ys = sorted(ys)\n",
    "    true_positive = gt_true\n",
    "    false_positive = gt_false\n",
    "    fps.append(false_positive / gt_false)\n",
    "    tps.append(true_positive / gt_true)\n",
    "    prev_p = None\n",
    "    i = 0\n",
    "    while i < len(ys):\n",
    "        y_p, y_t = ys[i]\n",
    "        prev_p = y_p\n",
    "        while i < len(ys) and y_p == prev_p:\n",
    "            if y_t == 1:\n",
    "                true_positive -= 1\n",
    "            if y_t == 0:\n",
    "                false_positive -= 1\n",
    "            i += 1\n",
    "            if i == len(ys):\n",
    "                break\n",
    "            y_p, y_t = ys[i]\n",
    "        prev_p = y_p\n",
    "        fps.append(false_positive / gt_false)\n",
    "        tps.append(true_positive / gt_true)\n",
    "    return tps[::-1], fps[::-1]\n",
    "\n",
    "def roc_auc(y_pr, y_true):\n",
    "    tps, fps = roc(y_pr, y_true)\n",
    "    prev_tp = tps[0]\n",
    "    prev_fp = fps[0]\n",
    "    area = 0\n",
    "    for tp, fp in zip(tps, fps):\n",
    "        area += (fp - prev_fp) * (prev_tp + tp) / 2\n",
    "        prev_tp = tp\n",
    "        prev_fp = fp\n",
    "    return area"
   ]
  },
  {
   "cell_type": "code",
   "execution_count": null,
   "metadata": {},
   "outputs": [],
   "source": [
    "roc_for_best(DecisionTreeClassifier(6, gini), cancer_features_tr, cancer_labels_tr, cancer_features_te, cancer_labels_te)"
   ]
  },
  {
   "cell_type": "code",
   "execution_count": 5,
   "metadata": {},
   "outputs": [],
   "source": [
    "def top3_features(X, y):\n",
    "    features_score = [(roc_auc(X[:, i], y), i) for i in range(X.shape[1])]\n",
    "    top_features = sorted(features_score, reverse=True)[:3]\n",
    "    for auc, i in top_features:\n",
    "        tps, fps = roc(X[:, i], y)\n",
    "        plt.plot(fps, tps)\n",
    "        plt.title(f\"{i}-th feature with auc = {round(auc, 4)}\")\n",
    "        plt.show()"
   ]
  },
  {
   "cell_type": "code",
   "execution_count": 6,
   "metadata": {},
   "outputs": [
    {
     "name": "stdout",
     "output_type": "stream",
     "text": [
      "cancer\n"
     ]
    },
    {
     "data": {
      "image/png": "[encoded data removed]",
      "text/plain": [
       "<Figure size 432x288 with 1 Axes>"
      ]
     },
     "metadata": {},
     "output_type": "display_data"
    },
    {
     "data": {
      "image/png": "[encoded data removed]",
      "text/plain": [
       "<Figure size 432x288 with 1 Axes>"
      ]
     },
     "metadata": {},
     "output_type": "display_data"
    },
    {
     "data": {
      "image/png": "[encoded data removed]",
      "text/plain": [
       "<Figure size 432x288 with 1 Axes>"
      ]
     },
     "metadata": {},
     "output_type": "display_data"
    },
    {
     "name": "stdout",
     "output_type": "stream",
     "text": [
      "spam\n"
     ]
    },
    {
     "data": {
      "image/png": "[encoded data removed]",
      "text/plain": [
       "<Figure size 432x288 with 1 Axes>"
      ]
     },
     "metadata": {},
     "output_type": "display_data"
    },
    {
     "data": {
      "image/png": "[encoded data removed]",
      "text/plain": [
       "<Figure size 432x288 with 1 Axes>"
      ]
     },
     "metadata": {},
     "output_type": "display_data"
    },
    {
     "data": {
      "image/png": "[encoded data removed]",
      "text/plain": [
       "<Figure size 432x288 with 1 Axes>"
      ]
     },
     "metadata": {},
     "output_type": "display_data"
    }
   ],
   "source": [
    "print(\"cancer\")\n",
    "top3_features(cancer_features, cancer_labels)\n",
    "print(\"spam\")\n",
    "top3_features(spam_features, spam_labels)"
   ]
  },
  {
   "cell_type": "code",
   "execution_count": 5,
   "metadata": {},
   "outputs": [
    {
     "name": "stdout",
     "output_type": "stream",
     "text": [
      "0.35604395604395606 0.43859649122807015\n",
      "0.3967391304347826 0.38327904451682954\n"
     ]
    },
    {
     "name": "stderr",
     "output_type": "stream",
     "text": [
      "/anaconda3/lib/python3.6/site-packages/sklearn/model_selection/_split.py:2026: FutureWarning: From version 0.21, test_size will always complement train_size unless both are specified.\n",
      "  FutureWarning)\n"
     ]
    }
   ],
   "source": [
    "cancer_features_tr, cancer_features_te, cancer_labels_tr, cancer_labels_te = train_test_split(cancer_features, cancer_labels, train_size=0.8)\n",
    "spam_features_tr, spam_features_te, spam_labels_tr, spam_labels_te = train_test_split(spam_features, spam_labels, train_size=0.8)\n",
    "print(np.mean(cancer_labels_tr), np.mean(cancer_labels_te))\n",
    "print(np.mean(spam_labels_tr), np.mean(spam_labels_te))"
   ]
  },
  {
   "cell_type": "code",
   "execution_count": 6,
   "metadata": {},
   "outputs": [],
   "source": [
    "def misclassify(ys):\n",
    "    c = max(Counter(ys).values())\n",
    "    return 1 - c / len(ys)\n",
    "\n",
    "def entropy(ys):\n",
    "    ent = 0\n",
    "    for l in Counter(ys).values():\n",
    "        p = l / len(ys)\n",
    "        ent -= p * np.log(p)\n",
    "    return ent\n",
    "\n",
    "def gini(ys):\n",
    "    ent = 0\n",
    "    for l in Counter(ys).values():\n",
    "        p = l / len(ys)\n",
    "        ent += p * (1 - p)\n",
    "    return ent"
   ]
  },
  {
   "cell_type": "code",
   "execution_count": 31,
   "metadata": {},
   "outputs": [],
   "source": [
    "class DecisionTreeClassifier:\n",
    "    def __init__(self, max_depth=6, impurity=gini):\n",
    "        self.max_depth = max_depth\n",
    "        self.impurity = impurity\n",
    "\n",
    "    def fit(self, X, y):\n",
    "        self.prob = Counter(y)[1] / len(y)\n",
    "        self.depth = 0\n",
    "        self.is_terminal = True\n",
    "        if self.max_depth == 0:\n",
    "            self.is_terminal = True\n",
    "            return self\n",
    "        node_gain = self.impurity(y) * len(y)\n",
    "        max_gain = 0\n",
    "        for feature_ind in range(X.shape[1]):\n",
    "            features_values = sorted(list(set(X[:, feature_ind])))\n",
    "            for th in features_values:\n",
    "                left_y = y[X[:, feature_ind] <= th]\n",
    "                right_y = y[X[:, feature_ind] > th]\n",
    "                if len(left_y) == 0 or len(right_y) == 0:\n",
    "                    continue\n",
    "                left_gain = self.impurity(left_y)\n",
    "                right_gain = self.impurity(right_y)\n",
    "                gain = node_gain - left_gain * len(left_y) - right_gain * len(right_y)\n",
    "                if max_gain < gain:\n",
    "                    max_gain = gain\n",
    "                    self.feature_ind = feature_ind\n",
    "                    self.th = th\n",
    "        if max_gain > 0:\n",
    "            self.is_terminal = False\n",
    "            self.left = DecisionTreeClassifier(self.max_depth - 1, self.impurity)\n",
    "            self.right = DecisionTreeClassifier(self.max_depth - 1, self.impurity)\n",
    "            self.left.fit(X[X[:, self.feature_ind] <= self.th], y[X[:, self.feature_ind] <= self.th])\n",
    "            self.right.fit(X[X[:, self.feature_ind] > self.th], y[X[:, self.feature_ind] > self.th])\n",
    "            self.depth = max(self.left.depth, self.right.depth) + 1\n",
    "        return self\n",
    "    \n",
    "    def _prob_to_lab(self, p):\n",
    "        return 1 if p >= 0.5 else 0\n",
    "\n",
    "    def predict(self, X):\n",
    "        if self.is_terminal:\n",
    "            return np.array([self._prob_to_lab(self.prob) for _ in range(X.shape[0])])\n",
    "        else:\n",
    "            y = np.array([0 for _ in range(X.shape[0])])\n",
    "            y[X[:, self.feature_ind] <= self.th] = self.left.predict(X[X[:, self.feature_ind] <= self.th])\n",
    "            y[X[:, self.feature_ind] > self.th] = self.right.predict(X[X[:, self.feature_ind] > self.th])\n",
    "            return y\n",
    "        \n",
    "    def predict_proba(self, X):\n",
    "        if self.is_terminal:\n",
    "            return np.array([self.prob for _ in range(X.shape[0])])\n",
    "        else:\n",
    "            y = np.array([0.0 for _ in range(X.shape[0])])\n",
    "            y[X[:, self.feature_ind] <= self.th] = self.left.predict_proba(X[X[:, self.feature_ind] <= self.th])\n",
    "            y[X[:, self.feature_ind] > self.th] = self.right.predict_proba(X[X[:, self.feature_ind] > self.th])\n",
    "            return y"
   ]
  },
  {
   "cell_type": "code",
   "execution_count": 37,
   "metadata": {},
   "outputs": [],
   "source": [
    "def find_best_depth(X_tr, y_tr, X_te, y_te, impurity):\n",
    "    for i in range(1, 11):\n",
    "        tree = DecisionTreeClassifier(i, impurity).fit(X_tr, y_tr)\n",
    "        y_pr = tree.predict(X_te)\n",
    "        acc = np.mean(y_pr == y_te)\n",
    "        print(f\"#Max depth: {i}, Real depth: {tree.depth}, accuracy = {acc}\")"
   ]
  },
  {
   "cell_type": "code",
   "execution_count": 15,
   "metadata": {},
   "outputs": [
    {
     "name": "stdout",
     "output_type": "stream",
     "text": [
      "Cancer\n",
      "Misclassification error\n",
      "#Max depth: 1, Real depth: 1, accuracy = 0.8421052631578947\n",
      "#Max depth: 2, Real depth: 2, accuracy = 0.8947368421052632\n",
      "#Max depth: 3, Real depth: 3, accuracy = 0.9122807017543859\n",
      "#Max depth: 4, Real depth: 4, accuracy = 0.9035087719298246\n",
      "#Max depth: 5, Real depth: 5, accuracy = 0.9210526315789473\n",
      "#Max depth: 6, Real depth: 6, accuracy = 0.9210526315789473\n",
      "#Max depth: 7, Real depth: 7, accuracy = 0.9210526315789473\n",
      "#Max depth: 8, Real depth: 8, accuracy = 0.9210526315789473\n",
      "#Max depth: 9, Real depth: 8, accuracy = 0.9210526315789473\n",
      "#Max depth: 10, Real depth: 8, accuracy = 0.9210526315789473\n",
      "Entropy\n",
      "#Max depth: 1, Real depth: 1, accuracy = 0.8596491228070176\n",
      "#Max depth: 2, Real depth: 2, accuracy = 0.8421052631578947\n",
      "#Max depth: 3, Real depth: 3, accuracy = 0.9298245614035088\n",
      "#Max depth: 4, Real depth: 4, accuracy = 0.9385964912280702\n",
      "#Max depth: 5, Real depth: 5, accuracy = 0.9298245614035088\n",
      "#Max depth: 6, Real depth: 5, accuracy = 0.9298245614035088\n",
      "#Max depth: 7, Real depth: 5, accuracy = 0.9298245614035088\n",
      "#Max depth: 8, Real depth: 5, accuracy = 0.9298245614035088\n",
      "#Max depth: 9, Real depth: 5, accuracy = 0.9298245614035088\n",
      "#Max depth: 10, Real depth: 5, accuracy = 0.9298245614035088\n",
      "Gini\n",
      "#Max depth: 1, Real depth: 1, accuracy = 0.8421052631578947\n",
      "#Max depth: 2, Real depth: 2, accuracy = 0.8859649122807017\n",
      "#Max depth: 3, Real depth: 3, accuracy = 0.9122807017543859\n",
      "#Max depth: 4, Real depth: 4, accuracy = 0.9122807017543859\n",
      "#Max depth: 5, Real depth: 5, accuracy = 0.9210526315789473\n",
      "#Max depth: 6, Real depth: 6, accuracy = 0.9298245614035088\n",
      "#Max depth: 7, Real depth: 7, accuracy = 0.9298245614035088\n",
      "#Max depth: 8, Real depth: 7, accuracy = 0.9298245614035088\n",
      "#Max depth: 9, Real depth: 7, accuracy = 0.9298245614035088\n",
      "#Max depth: 10, Real depth: 7, accuracy = 0.9298245614035088\n"
     ]
    }
   ],
   "source": [
    "print(\"Cancer\")\n",
    "print(\"Misclassification error\")\n",
    "find_best_depth(cancer_features_tr, cancer_labels_tr, cancer_features_te, cancer_labels_te, misclassify)\n",
    "print(\"Entropy\")\n",
    "find_best_depth(cancer_features_tr, cancer_labels_tr, cancer_features_te, cancer_labels_te, entropy)\n",
    "print(\"Gini\")\n",
    "find_best_depth(cancer_features_tr, cancer_labels_tr, cancer_features_te, cancer_labels_te, gini)"
   ]
  },
  {
   "cell_type": "code",
   "execution_count": 16,
   "metadata": {},
   "outputs": [
    {
     "name": "stdout",
     "output_type": "stream",
     "text": [
      "Spam\n",
      "Misclassification error\n",
      "#Max depth: 1, Real depth: 1, accuracy = 0.7947882736156352\n",
      "#Max depth: 2, Real depth: 2, accuracy = 0.8566775244299675\n",
      "#Max depth: 3, Real depth: 3, accuracy = 0.8838219326818675\n",
      "#Max depth: 4, Real depth: 4, accuracy = 0.9044516829533116\n",
      "#Max depth: 5, Real depth: 5, accuracy = 0.9011943539630836\n",
      "#Max depth: 6, Real depth: 6, accuracy = 0.9022801302931596\n",
      "#Max depth: 7, Real depth: 7, accuracy = 0.9098805646036916\n",
      "#Max depth: 8, Real depth: 8, accuracy = 0.9077090119435396\n",
      "#Max depth: 9, Real depth: 9, accuracy = 0.9077090119435396\n",
      "#Max depth: 10, Real depth: 10, accuracy = 0.9098805646036916\n",
      "Entropy\n",
      "#Max depth: 1, Real depth: 1, accuracy = 0.7904451682953312\n",
      "#Max depth: 2, Real depth: 2, accuracy = 0.8208469055374593\n",
      "#Max depth: 3, Real depth: 3, accuracy = 0.8642779587404995\n",
      "#Max depth: 4, Real depth: 4, accuracy = 0.8968512486427795\n",
      "#Max depth: 5, Real depth: 5, accuracy = 0.8990228013029316\n",
      "#Max depth: 6, Real depth: 6, accuracy = 0.9066232356134636\n",
      "#Max depth: 7, Real depth: 7, accuracy = 0.9229098805646037\n",
      "#Max depth: 8, Real depth: 8, accuracy = 0.9174809989142236\n",
      "#Max depth: 9, Real depth: 9, accuracy = 0.9185667752442996\n",
      "#Max depth: 10, Real depth: 10, accuracy = 0.9163952225841476\n",
      "Gini\n",
      "#Max depth: 1, Real depth: 1, accuracy = 0.7904451682953312\n",
      "#Max depth: 2, Real depth: 2, accuracy = 0.8262757871878393\n",
      "#Max depth: 3, Real depth: 3, accuracy = 0.8794788273615635\n",
      "#Max depth: 4, Real depth: 4, accuracy = 0.8957654723127035\n",
      "#Max depth: 5, Real depth: 5, accuracy = 0.9066232356134636\n",
      "#Max depth: 6, Real depth: 6, accuracy = 0.9131378935939196\n",
      "#Max depth: 7, Real depth: 7, accuracy = 0.9153094462540716\n",
      "#Max depth: 8, Real depth: 8, accuracy = 0.9207383279044516\n",
      "#Max depth: 9, Real depth: 9, accuracy = 0.9229098805646037\n",
      "#Max depth: 10, Real depth: 10, accuracy = 0.9250814332247557\n"
     ]
    }
   ],
   "source": [
    "print(\"Spam\")\n",
    "print(\"Misclassification error\")\n",
    "find_best_depth(spam_features_tr, spam_labels_tr, spam_features_te, spam_labels_te, misclassify)\n",
    "print(\"Entropy\")\n",
    "find_best_depth(spam_features_tr, spam_labels_tr, spam_features_te, spam_labels_te, entropy)\n",
    "print(\"Gini\")\n",
    "find_best_depth(spam_features_tr, spam_labels_tr, spam_features_te, spam_labels_te, gini)"
   ]
  },
  {
   "cell_type": "code",
   "execution_count": 33,
   "metadata": {},
   "outputs": [],
   "source": [
    "def roc_for_best(tree, X_tr, y_tr, X_te, y_te):\n",
    "    tree.fit(X_tr, y_tr)\n",
    "    tps, fps = roc(tree.predict_proba(X_te), y_te)\n",
    "    plt.plot(fps, tps)\n",
    "    plt.show()"
   ]
  },
  {
   "cell_type": "code",
   "execution_count": 34,
   "metadata": {},
   "outputs": [
    {
     "data": {
      "image/png": "[encoded data removed]",
      "text/plain": [
       "<Figure size 432x288 with 1 Axes>"
      ]
     },
     "metadata": {},
     "output_type": "display_data"
    },
    {
     "data": {
      "image/png": "[encoded data removed]",
      "text/plain": [
       "<Figure size 432x288 with 1 Axes>"
      ]
     },
     "metadata": {},
     "output_type": "display_data"
    },
    {
     "data": {
      "image/png": "[encoded data removed]",
      "text/plain": [
       "<Figure size 432x288 with 1 Axes>"
      ]
     },
     "metadata": {},
     "output_type": "display_data"
    },
    {
     "data": {
      "image/png": "[encoded data removed]",
      "text/plain": [
       "<Figure size 432x288 with 1 Axes>"
      ]
     },
     "metadata": {},
     "output_type": "display_data"
    },
    {
     "data": {
      "image/png": "[encoded data removed]",
      "text/plain": [
       "<Figure size 432x288 with 1 Axes>"
      ]
     },
     "metadata": {},
     "output_type": "display_data"
    },
    {
     "data": {
      "image/png": "[encoded data removed]",
      "text/plain": [
       "<Figure size 432x288 with 1 Axes>"
      ]
     },
     "metadata": {},
     "output_type": "display_data"
    }
   ],
   "source": [
    "roc_for_best(DecisionTreeClassifier(4, entropy), cancer_features_tr, cancer_labels_tr, cancer_features_te, cancer_labels_te)\n",
    "roc_for_best(DecisionTreeClassifier(6, gini), cancer_features_tr, cancer_labels_tr, cancer_features_te, cancer_labels_te)\n",
    "roc_for_best(DecisionTreeClassifier(5, misclassify), cancer_features_tr, cancer_labels_tr, cancer_features_te, cancer_labels_te)\n",
    "\n",
    "roc_for_best(DecisionTreeClassifier(10, gini), spam_features_tr, spam_labels_tr, spam_features_te, spam_labels_te)\n",
    "roc_for_best(DecisionTreeClassifier(7, entropy), spam_features_tr, spam_labels_tr, spam_features_te, spam_labels_te)\n",
    "roc_for_best(DecisionTreeClassifier(10, misclassify), spam_features_tr, spam_labels_tr, spam_features_te, spam_labels_te)"
   ]
  },
  {
   "cell_type": "code",
   "execution_count": 40,
   "metadata": {},
   "outputs": [
    {
     "data": {
      "image/png": "[encoded data removed]",
      "text/plain": [
       "<Figure size 432x288 with 1 Axes>"
      ]
     },
     "metadata": {},
     "output_type": "display_data"
    }
   ],
   "source": [
    "roc_for_best(DecisionTreeClassifier(6, gini), cancer_features_tr, cancer_labels_tr, cancer_features_te, cancer_labels_te)"
   ]
  }
 ],
 "metadata": {
  "kernelspec": {
   "display_name": "Python 3",
   "language": "python",
   "name": "python3"
  },
  "language_info": {
   "codemirror_mode": {
    "name": "ipython",
    "version": 3
   },
   "file_extension": ".py",
   "mimetype": "text/x-python",
   "name": "python",
   "nbconvert_exporter": "python",
   "pygments_lexer": "ipython3",
   "version": "3.6.5"
  }
 },
 "nbformat": 4,
 "nbformat_minor": 2
}
