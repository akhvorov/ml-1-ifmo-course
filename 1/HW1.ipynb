{
 "cells": [
  {
   "cell_type": "code",
   "execution_count": 1,
   "metadata": {},
   "outputs": [],
   "source": [
    "import pandas as pd\n",
    "import numpy as np\n",
    "from sklearn.model_selection import LeaveOneOut\n",
    "from sklearn.preprocessing import MinMaxScaler"
   ]
  },
  {
   "cell_type": "code",
   "execution_count": 2,
   "metadata": {},
   "outputs": [
    {
     "name": "stdout",
     "output_type": "stream",
     "text": [
      "(569, 31)\n"
     ]
    },
    {
     "data": {
      "text/html": [
       "<div>\n",
       "<style scoped>\n",
       "    .dataframe tbody tr th:only-of-type {\n",
       "        vertical-align: middle;\n",
       "    }\n",
       "\n",
       "    .dataframe tbody tr th {\n",
       "        vertical-align: top;\n",
       "    }\n",
       "\n",
       "    .dataframe thead th {\n",
       "        text-align: right;\n",
       "    }\n",
       "</style>\n",
       "<table border=\"1\" class=\"dataframe\">\n",
       "  <thead>\n",
       "    <tr style=\"text-align: right;\">\n",
       "      <th></th>\n",
       "      <th>label</th>\n",
       "      <th>1</th>\n",
       "      <th>2</th>\n",
       "      <th>3</th>\n",
       "      <th>4</th>\n",
       "      <th>5</th>\n",
       "      <th>6</th>\n",
       "      <th>7</th>\n",
       "      <th>8</th>\n",
       "      <th>9</th>\n",
       "      <th>...</th>\n",
       "      <th>21</th>\n",
       "      <th>22</th>\n",
       "      <th>23</th>\n",
       "      <th>24</th>\n",
       "      <th>25</th>\n",
       "      <th>26</th>\n",
       "      <th>27</th>\n",
       "      <th>28</th>\n",
       "      <th>29</th>\n",
       "      <th>30</th>\n",
       "    </tr>\n",
       "  </thead>\n",
       "  <tbody>\n",
       "    <tr>\n",
       "      <th>0</th>\n",
       "      <td>M</td>\n",
       "      <td>17.99</td>\n",
       "      <td>10.38</td>\n",
       "      <td>122.80</td>\n",
       "      <td>1001.0</td>\n",
       "      <td>0.11840</td>\n",
       "      <td>0.27760</td>\n",
       "      <td>0.3001</td>\n",
       "      <td>0.14710</td>\n",
       "      <td>0.2419</td>\n",
       "      <td>...</td>\n",
       "      <td>25.38</td>\n",
       "      <td>17.33</td>\n",
       "      <td>184.60</td>\n",
       "      <td>2019.0</td>\n",
       "      <td>0.1622</td>\n",
       "      <td>0.6656</td>\n",
       "      <td>0.7119</td>\n",
       "      <td>0.2654</td>\n",
       "      <td>0.4601</td>\n",
       "      <td>0.11890</td>\n",
       "    </tr>\n",
       "    <tr>\n",
       "      <th>1</th>\n",
       "      <td>M</td>\n",
       "      <td>20.57</td>\n",
       "      <td>17.77</td>\n",
       "      <td>132.90</td>\n",
       "      <td>1326.0</td>\n",
       "      <td>0.08474</td>\n",
       "      <td>0.07864</td>\n",
       "      <td>0.0869</td>\n",
       "      <td>0.07017</td>\n",
       "      <td>0.1812</td>\n",
       "      <td>...</td>\n",
       "      <td>24.99</td>\n",
       "      <td>23.41</td>\n",
       "      <td>158.80</td>\n",
       "      <td>1956.0</td>\n",
       "      <td>0.1238</td>\n",
       "      <td>0.1866</td>\n",
       "      <td>0.2416</td>\n",
       "      <td>0.1860</td>\n",
       "      <td>0.2750</td>\n",
       "      <td>0.08902</td>\n",
       "    </tr>\n",
       "    <tr>\n",
       "      <th>2</th>\n",
       "      <td>M</td>\n",
       "      <td>19.69</td>\n",
       "      <td>21.25</td>\n",
       "      <td>130.00</td>\n",
       "      <td>1203.0</td>\n",
       "      <td>0.10960</td>\n",
       "      <td>0.15990</td>\n",
       "      <td>0.1974</td>\n",
       "      <td>0.12790</td>\n",
       "      <td>0.2069</td>\n",
       "      <td>...</td>\n",
       "      <td>23.57</td>\n",
       "      <td>25.53</td>\n",
       "      <td>152.50</td>\n",
       "      <td>1709.0</td>\n",
       "      <td>0.1444</td>\n",
       "      <td>0.4245</td>\n",
       "      <td>0.4504</td>\n",
       "      <td>0.2430</td>\n",
       "      <td>0.3613</td>\n",
       "      <td>0.08758</td>\n",
       "    </tr>\n",
       "    <tr>\n",
       "      <th>3</th>\n",
       "      <td>M</td>\n",
       "      <td>11.42</td>\n",
       "      <td>20.38</td>\n",
       "      <td>77.58</td>\n",
       "      <td>386.1</td>\n",
       "      <td>0.14250</td>\n",
       "      <td>0.28390</td>\n",
       "      <td>0.2414</td>\n",
       "      <td>0.10520</td>\n",
       "      <td>0.2597</td>\n",
       "      <td>...</td>\n",
       "      <td>14.91</td>\n",
       "      <td>26.50</td>\n",
       "      <td>98.87</td>\n",
       "      <td>567.7</td>\n",
       "      <td>0.2098</td>\n",
       "      <td>0.8663</td>\n",
       "      <td>0.6869</td>\n",
       "      <td>0.2575</td>\n",
       "      <td>0.6638</td>\n",
       "      <td>0.17300</td>\n",
       "    </tr>\n",
       "    <tr>\n",
       "      <th>4</th>\n",
       "      <td>M</td>\n",
       "      <td>20.29</td>\n",
       "      <td>14.34</td>\n",
       "      <td>135.10</td>\n",
       "      <td>1297.0</td>\n",
       "      <td>0.10030</td>\n",
       "      <td>0.13280</td>\n",
       "      <td>0.1980</td>\n",
       "      <td>0.10430</td>\n",
       "      <td>0.1809</td>\n",
       "      <td>...</td>\n",
       "      <td>22.54</td>\n",
       "      <td>16.67</td>\n",
       "      <td>152.20</td>\n",
       "      <td>1575.0</td>\n",
       "      <td>0.1374</td>\n",
       "      <td>0.2050</td>\n",
       "      <td>0.4000</td>\n",
       "      <td>0.1625</td>\n",
       "      <td>0.2364</td>\n",
       "      <td>0.07678</td>\n",
       "    </tr>\n",
       "  </tbody>\n",
       "</table>\n",
       "<p>5 rows × 31 columns</p>\n",
       "</div>"
      ],
      "text/plain": [
       "  label      1      2       3       4        5        6       7        8  \\\n",
       "0     M  17.99  10.38  122.80  1001.0  0.11840  0.27760  0.3001  0.14710   \n",
       "1     M  20.57  17.77  132.90  1326.0  0.08474  0.07864  0.0869  0.07017   \n",
       "2     M  19.69  21.25  130.00  1203.0  0.10960  0.15990  0.1974  0.12790   \n",
       "3     M  11.42  20.38   77.58   386.1  0.14250  0.28390  0.2414  0.10520   \n",
       "4     M  20.29  14.34  135.10  1297.0  0.10030  0.13280  0.1980  0.10430   \n",
       "\n",
       "        9   ...        21     22      23      24      25      26      27  \\\n",
       "0  0.2419   ...     25.38  17.33  184.60  2019.0  0.1622  0.6656  0.7119   \n",
       "1  0.1812   ...     24.99  23.41  158.80  1956.0  0.1238  0.1866  0.2416   \n",
       "2  0.2069   ...     23.57  25.53  152.50  1709.0  0.1444  0.4245  0.4504   \n",
       "3  0.2597   ...     14.91  26.50   98.87   567.7  0.2098  0.8663  0.6869   \n",
       "4  0.1809   ...     22.54  16.67  152.20  1575.0  0.1374  0.2050  0.4000   \n",
       "\n",
       "       28      29       30  \n",
       "0  0.2654  0.4601  0.11890  \n",
       "1  0.1860  0.2750  0.08902  \n",
       "2  0.2430  0.3613  0.08758  \n",
       "3  0.2575  0.6638  0.17300  \n",
       "4  0.1625  0.2364  0.07678  \n",
       "\n",
       "[5 rows x 31 columns]"
      ]
     },
     "execution_count": 2,
     "metadata": {},
     "output_type": "execute_result"
    }
   ],
   "source": [
    "cancer_data = pd.read_csv(\"cancer.csv\")\n",
    "print(cancer_data.shape)\n",
    "cancer_labels = cancer_data['label'].values\n",
    "cancer_features = cancer_data.drop(['label'], axis=1).values\n",
    "cancer_data.head()"
   ]
  },
  {
   "cell_type": "code",
   "execution_count": 3,
   "metadata": {},
   "outputs": [
    {
     "name": "stdout",
     "output_type": "stream",
     "text": [
      "(4601, 58)\n"
     ]
    },
    {
     "data": {
      "text/html": [
       "<div>\n",
       "<style scoped>\n",
       "    .dataframe tbody tr th:only-of-type {\n",
       "        vertical-align: middle;\n",
       "    }\n",
       "\n",
       "    .dataframe tbody tr th {\n",
       "        vertical-align: top;\n",
       "    }\n",
       "\n",
       "    .dataframe thead th {\n",
       "        text-align: right;\n",
       "    }\n",
       "</style>\n",
       "<table border=\"1\" class=\"dataframe\">\n",
       "  <thead>\n",
       "    <tr style=\"text-align: right;\">\n",
       "      <th></th>\n",
       "      <th>word_freq_make</th>\n",
       "      <th>word_freq_address</th>\n",
       "      <th>word_freq_all</th>\n",
       "      <th>word_freq_3d</th>\n",
       "      <th>word_freq_our</th>\n",
       "      <th>word_freq_over</th>\n",
       "      <th>word_freq_remove</th>\n",
       "      <th>word_freq_internet</th>\n",
       "      <th>word_freq_order</th>\n",
       "      <th>word_freq_mail</th>\n",
       "      <th>...</th>\n",
       "      <th>char_freq_:</th>\n",
       "      <th>char_freq_(</th>\n",
       "      <th>char_freq_[</th>\n",
       "      <th>char_freq_!</th>\n",
       "      <th>char_freq_$</th>\n",
       "      <th>char_freq_#</th>\n",
       "      <th>capital_run_length_average</th>\n",
       "      <th>capital_run_length_longest</th>\n",
       "      <th>capital_run_length_total</th>\n",
       "      <th>label</th>\n",
       "    </tr>\n",
       "  </thead>\n",
       "  <tbody>\n",
       "    <tr>\n",
       "      <th>0</th>\n",
       "      <td>0.00</td>\n",
       "      <td>0.64</td>\n",
       "      <td>0.64</td>\n",
       "      <td>0.0</td>\n",
       "      <td>0.32</td>\n",
       "      <td>0.00</td>\n",
       "      <td>0.00</td>\n",
       "      <td>0.00</td>\n",
       "      <td>0.00</td>\n",
       "      <td>0.00</td>\n",
       "      <td>...</td>\n",
       "      <td>0.00</td>\n",
       "      <td>0.000</td>\n",
       "      <td>0.0</td>\n",
       "      <td>0.778</td>\n",
       "      <td>0.000</td>\n",
       "      <td>0.000</td>\n",
       "      <td>3.756</td>\n",
       "      <td>61</td>\n",
       "      <td>278</td>\n",
       "      <td>1</td>\n",
       "    </tr>\n",
       "    <tr>\n",
       "      <th>1</th>\n",
       "      <td>0.21</td>\n",
       "      <td>0.28</td>\n",
       "      <td>0.50</td>\n",
       "      <td>0.0</td>\n",
       "      <td>0.14</td>\n",
       "      <td>0.28</td>\n",
       "      <td>0.21</td>\n",
       "      <td>0.07</td>\n",
       "      <td>0.00</td>\n",
       "      <td>0.94</td>\n",
       "      <td>...</td>\n",
       "      <td>0.00</td>\n",
       "      <td>0.132</td>\n",
       "      <td>0.0</td>\n",
       "      <td>0.372</td>\n",
       "      <td>0.180</td>\n",
       "      <td>0.048</td>\n",
       "      <td>5.114</td>\n",
       "      <td>101</td>\n",
       "      <td>1028</td>\n",
       "      <td>1</td>\n",
       "    </tr>\n",
       "    <tr>\n",
       "      <th>2</th>\n",
       "      <td>0.06</td>\n",
       "      <td>0.00</td>\n",
       "      <td>0.71</td>\n",
       "      <td>0.0</td>\n",
       "      <td>1.23</td>\n",
       "      <td>0.19</td>\n",
       "      <td>0.19</td>\n",
       "      <td>0.12</td>\n",
       "      <td>0.64</td>\n",
       "      <td>0.25</td>\n",
       "      <td>...</td>\n",
       "      <td>0.01</td>\n",
       "      <td>0.143</td>\n",
       "      <td>0.0</td>\n",
       "      <td>0.276</td>\n",
       "      <td>0.184</td>\n",
       "      <td>0.010</td>\n",
       "      <td>9.821</td>\n",
       "      <td>485</td>\n",
       "      <td>2259</td>\n",
       "      <td>1</td>\n",
       "    </tr>\n",
       "    <tr>\n",
       "      <th>3</th>\n",
       "      <td>0.00</td>\n",
       "      <td>0.00</td>\n",
       "      <td>0.00</td>\n",
       "      <td>0.0</td>\n",
       "      <td>0.63</td>\n",
       "      <td>0.00</td>\n",
       "      <td>0.31</td>\n",
       "      <td>0.63</td>\n",
       "      <td>0.31</td>\n",
       "      <td>0.63</td>\n",
       "      <td>...</td>\n",
       "      <td>0.00</td>\n",
       "      <td>0.137</td>\n",
       "      <td>0.0</td>\n",
       "      <td>0.137</td>\n",
       "      <td>0.000</td>\n",
       "      <td>0.000</td>\n",
       "      <td>3.537</td>\n",
       "      <td>40</td>\n",
       "      <td>191</td>\n",
       "      <td>1</td>\n",
       "    </tr>\n",
       "    <tr>\n",
       "      <th>4</th>\n",
       "      <td>0.00</td>\n",
       "      <td>0.00</td>\n",
       "      <td>0.00</td>\n",
       "      <td>0.0</td>\n",
       "      <td>0.63</td>\n",
       "      <td>0.00</td>\n",
       "      <td>0.31</td>\n",
       "      <td>0.63</td>\n",
       "      <td>0.31</td>\n",
       "      <td>0.63</td>\n",
       "      <td>...</td>\n",
       "      <td>0.00</td>\n",
       "      <td>0.135</td>\n",
       "      <td>0.0</td>\n",
       "      <td>0.135</td>\n",
       "      <td>0.000</td>\n",
       "      <td>0.000</td>\n",
       "      <td>3.537</td>\n",
       "      <td>40</td>\n",
       "      <td>191</td>\n",
       "      <td>1</td>\n",
       "    </tr>\n",
       "  </tbody>\n",
       "</table>\n",
       "<p>5 rows × 58 columns</p>\n",
       "</div>"
      ],
      "text/plain": [
       "   word_freq_make  word_freq_address  word_freq_all  word_freq_3d  \\\n",
       "0            0.00               0.64           0.64           0.0   \n",
       "1            0.21               0.28           0.50           0.0   \n",
       "2            0.06               0.00           0.71           0.0   \n",
       "3            0.00               0.00           0.00           0.0   \n",
       "4            0.00               0.00           0.00           0.0   \n",
       "\n",
       "   word_freq_our  word_freq_over  word_freq_remove  word_freq_internet  \\\n",
       "0           0.32            0.00              0.00                0.00   \n",
       "1           0.14            0.28              0.21                0.07   \n",
       "2           1.23            0.19              0.19                0.12   \n",
       "3           0.63            0.00              0.31                0.63   \n",
       "4           0.63            0.00              0.31                0.63   \n",
       "\n",
       "   word_freq_order  word_freq_mail  ...    char_freq_:  char_freq_(  \\\n",
       "0             0.00            0.00  ...           0.00        0.000   \n",
       "1             0.00            0.94  ...           0.00        0.132   \n",
       "2             0.64            0.25  ...           0.01        0.143   \n",
       "3             0.31            0.63  ...           0.00        0.137   \n",
       "4             0.31            0.63  ...           0.00        0.135   \n",
       "\n",
       "   char_freq_[  char_freq_!  char_freq_$  char_freq_#  \\\n",
       "0          0.0        0.778        0.000        0.000   \n",
       "1          0.0        0.372        0.180        0.048   \n",
       "2          0.0        0.276        0.184        0.010   \n",
       "3          0.0        0.137        0.000        0.000   \n",
       "4          0.0        0.135        0.000        0.000   \n",
       "\n",
       "   capital_run_length_average  capital_run_length_longest  \\\n",
       "0                       3.756                          61   \n",
       "1                       5.114                         101   \n",
       "2                       9.821                         485   \n",
       "3                       3.537                          40   \n",
       "4                       3.537                          40   \n",
       "\n",
       "   capital_run_length_total  label  \n",
       "0                       278      1  \n",
       "1                      1028      1  \n",
       "2                      2259      1  \n",
       "3                       191      1  \n",
       "4                       191      1  \n",
       "\n",
       "[5 rows x 58 columns]"
      ]
     },
     "execution_count": 3,
     "metadata": {},
     "output_type": "execute_result"
    }
   ],
   "source": [
    "spam_data = pd.read_csv(\"spam.csv\")\n",
    "print(spam_data.shape)\n",
    "spam_labels = spam_data['label'].values\n",
    "spam_features = spam_data.drop(['label'], axis=1).values\n",
    "spam_data.head()"
   ]
  },
  {
   "cell_type": "code",
   "execution_count": 4,
   "metadata": {},
   "outputs": [],
   "source": [
    "def dist(x1, x2):\n",
    "    return np.linalg.norm(x1 - x2)\n",
    "\n",
    "\n",
    "class KNN:\n",
    "    def __init__(self, k=3):\n",
    "        self.k = k\n",
    "        \n",
    "    def fit(self, X, y):\n",
    "        self.data = X\n",
    "        self.ys = y\n",
    "        \n",
    "    def predict(self, xs):\n",
    "        return np.array([self.get_label(self.filter_neighbours(self.get_neighbours(x), self.k)) for x in xs])\n",
    "    \n",
    "    def get_neighbours(self, x):\n",
    "        '''\n",
    "        return list of pairs (ind, dist to x) sorted by dist\n",
    "        '''\n",
    "        dists = enumerate(map(lambda y: dist(x, y), self.data))\n",
    "        return self.filter_neighbours(sorted(dists, key=lambda y: y[1]), self.k)\n",
    "    \n",
    "    def filter_neighbours(self, neighbours, k):\n",
    "        raise NotImplementedError()\n",
    "    \n",
    "    def get_label(self, x):\n",
    "        raise NotImplementedError()\n",
    "        \n",
    "\n",
    "class KNNClassifier(KNN):\n",
    "    def __init__(self, k=3):\n",
    "        super().__init__(k)\n",
    "        \n",
    "    def filter_neighbours(self, neighbours, k):\n",
    "        return neighbours[:k]\n",
    "        \n",
    "    def get_label(self, neighbours):\n",
    "        labels = {}\n",
    "        for i, x in neighbours:\n",
    "            if self.ys[i] not in labels:\n",
    "                labels[self.ys[i]] = 0\n",
    "            labels[self.ys[i]] += 1\n",
    "        return sorted(list(labels.items()), key=lambda t: -t[1])[0][0]\n",
    "    \n",
    "\n",
    "class RNNClassifier(KNN):\n",
    "    def __init__(self, k=3):\n",
    "        super().__init__(k)\n",
    "        \n",
    "    def filter_neighbours(self, neighbours, r):\n",
    "        return list(filter(lambda x: x[1] < r, neighbours))\n",
    "        \n",
    "    def get_label(self, neighbours):\n",
    "        labels = {}\n",
    "        for i, x in neighbours:\n",
    "            if self.ys[i] not in labels:\n",
    "                labels[self.ys[i]] = 0\n",
    "            labels[self.ys[i]] += 1\n",
    "        if len(labels) == 0:\n",
    "            return self.ys[0]\n",
    "        return sorted(list(labels.items()), key=lambda t: -t[1])[0][0]"
   ]
  },
  {
   "cell_type": "code",
   "execution_count": 5,
   "metadata": {},
   "outputs": [],
   "source": [
    "def accuracy(y_pr, y_te):\n",
    "    return np.mean(y_pr == y_te)\n",
    "\n",
    "def evaluate_knn(X, y, ks, knn_constructor):\n",
    "    loo = LeaveOneOut()\n",
    "    match = np.zeros(len(ks))\n",
    "    max_k = max(ks)\n",
    "    for tr_ind, te_ind in loo.split(X):\n",
    "        X_tr, X_te = X[tr_ind], X[te_ind]\n",
    "        y_tr, y_te = y[tr_ind], y[te_ind]\n",
    "        knn = knn_constructor(max_k)\n",
    "        knn.fit(X_tr, y_tr)\n",
    "        neighbours = knn.get_neighbours(X_te[0])\n",
    "        for i, k in enumerate(ks):\n",
    "            match[i] += 1 if knn.get_label(knn.filter_neighbours(neighbours, k)) == y_te[0] else 0\n",
    "    return match / loo.get_n_splits(X)"
   ]
  },
  {
   "cell_type": "code",
   "execution_count": 6,
   "metadata": {},
   "outputs": [
    {
     "name": "stdout",
     "output_type": "stream",
     "text": [
      "kNN on cancer data with k in [1, 10]\n",
      "[0.91564148 0.91564148 0.92618629 0.92618629 0.93321617 0.92970123\n",
      " 0.9314587  0.9314587  0.93321617 0.9314587 ]\n"
     ]
    }
   ],
   "source": [
    "print(\"kNN on cancer data with k in [1, 10]\")\n",
    "print(evaluate_knn(cancer_features, cancer_labels, list(range(1, 11)), KNNClassifier))"
   ]
  },
  {
   "cell_type": "code",
   "execution_count": 7,
   "metadata": {},
   "outputs": [
    {
     "name": "stdout",
     "output_type": "stream",
     "text": [
      "kNN on spam data with k in [1, 10]\n",
      "[0.83047164 0.83047164 0.81482286 0.82655944 0.81417083 0.82329928\n",
      " 0.80417301 0.81764834 0.797218   0.81286677]\n"
     ]
    }
   ],
   "source": [
    "print(\"kNN on spam data with k in [1, 10]\")\n",
    "print(evaluate_knn(spam_features, spam_labels, list(range(1, 11)), KNNClassifier))"
   ]
  },
  {
   "cell_type": "code",
   "execution_count": 12,
   "metadata": {},
   "outputs": [
    {
     "name": "stdout",
     "output_type": "stream",
     "text": [
      "Radius Neighbours on cancer data with R in [1, 1000]\n",
      "[0.37258348 0.91915641 0.91388401 0.89455185 0.88400703 0.86643234\n",
      " 0.85764499 0.84358524 0.82073814 0.79964851]\n"
     ]
    }
   ],
   "source": [
    "# Find radius on big interval like binary search\n",
    "print(\"Radius Neighbours on cancer data with R in [1, 1000]\")\n",
    "print(evaluate_knn(cancer_features, cancer_labels, np.linspace(1, 1000, 10), RNNClassifier))"
   ]
  },
  {
   "cell_type": "code",
   "execution_count": 13,
   "metadata": {},
   "outputs": [
    {
     "name": "stdout",
     "output_type": "stream",
     "text": [
      "Radius Neighbours on cancer data with R in [30, 35]\n",
      "[0.91036907 0.92970123 0.92267135 0.92091388 0.91915641 0.91739895\n",
      " 0.91564148 0.91212654 0.91564148 0.91036907]\n"
     ]
    }
   ],
   "source": [
    "print(\"Radius Neighbours on cancer data with R in [30, 250]\")\n",
    "print(evaluate_knn(cancer_features, cancer_labels, np.linspace(30, 250, 10), RNNClassifier))"
   ]
  },
  {
   "cell_type": "code",
   "execution_count": 14,
   "metadata": {},
   "outputs": [
    {
     "name": "stdout",
     "output_type": "stream",
     "text": [
      "Radius Neighbours on cancer data with R in [40, 80]\n",
      "[0.92618629 0.92442882 0.9314587  0.92970123 0.9314587  0.92970123\n",
      " 0.92970123 0.92618629 0.92267135 0.92442882]\n"
     ]
    }
   ],
   "source": [
    "print(\"Radius Neighbours on cancer data with R in [40, 80]\")\n",
    "print(evaluate_knn(cancer_features, cancer_labels, np.linspace(40, 80, 10), RNNClassifier))"
   ]
  },
  {
   "cell_type": "code",
   "execution_count": 15,
   "metadata": {},
   "outputs": [
    {
     "name": "stdout",
     "output_type": "stream",
     "text": [
      "Radius Neighbours on cancer data with R in [50, 60]. Best values achieved in this interval\n",
      "[0.93321617 0.93497364 0.9314587  0.92970123 0.92970123 0.92794376\n",
      " 0.92970123 0.9314587  0.92794376 0.92970123]\n"
     ]
    }
   ],
   "source": [
    "print(\"Radius Neighbours on cancer data with R in [50, 60]. Best values achieved in this interval\")\n",
    "print(evaluate_knn(cancer_features, cancer_labels, np.linspace(50, 60, 10), RNNClassifier))"
   ]
  },
  {
   "cell_type": "code",
   "execution_count": 16,
   "metadata": {},
   "outputs": [
    {
     "name": "stdout",
     "output_type": "stream",
     "text": [
      "Radius Neighbours on spam data with R in [1, 50]\n",
      "[0.47446207 0.73723104 0.73158009 0.7148446  0.7039774 ]\n"
     ]
    }
   ],
   "source": [
    "print(\"Radius Neighbours on spam data with R in [1, 100]\")\n",
    "print(evaluate_knn(spam_features, spam_labels, np.linspace(1, 100, 5), RNNClassifier))"
   ]
  },
  {
   "cell_type": "code",
   "execution_count": 18,
   "metadata": {},
   "outputs": [
    {
     "name": "stdout",
     "output_type": "stream",
     "text": [
      "Radius Neighbours on spam data with R in [20, 70]\n",
      "[0.74809824 0.72962399 0.73614432 0.72788524 0.71875679]\n"
     ]
    }
   ],
   "source": [
    "print(\"Radius Neighbours on spam data with R in [20, 70]\")\n",
    "print(evaluate_knn(spam_features, spam_labels, np.linspace(20, 70, 5), RNNClassifier))"
   ]
  },
  {
   "cell_type": "code",
   "execution_count": 19,
   "metadata": {},
   "outputs": [
    {
     "name": "stdout",
     "output_type": "stream",
     "text": [
      "Radius Neighbours on spam data with R in [10, 45]\n",
      "[0.76396436 0.75527059 0.73288416 0.72875462 0.73614432]\n"
     ]
    }
   ],
   "source": [
    "print(\"Radius Neighbours on spam data with R in [10, 45]\")\n",
    "print(evaluate_knn(spam_features, spam_labels, np.linspace(10, 45, 5), RNNClassifier))"
   ]
  },
  {
   "cell_type": "code",
   "execution_count": 20,
   "metadata": {},
   "outputs": [
    {
     "name": "stdout",
     "output_type": "stream",
     "text": [
      "Radius Neighbours on spam data with R in [2, 25]\n",
      "[0.52184308 0.76874592 0.75831341 0.7513584  0.73831776]\n"
     ]
    }
   ],
   "source": [
    "print(\"Radius Neighbours on spam data with R in [2, 25]\")\n",
    "print(evaluate_knn(spam_features, spam_labels, np.linspace(2, 25, 5), RNNClassifier))"
   ]
  },
  {
   "cell_type": "code",
   "execution_count": 21,
   "metadata": {},
   "outputs": [
    {
     "name": "stdout",
     "output_type": "stream",
     "text": [
      "Radius Neighbours on spam data with R in [3, 4]. Best values achieved in this interval\n",
      "[0.63703543 0.77331015 0.75983482 0.7513584  0.74809824]\n"
     ]
    }
   ],
   "source": [
    "print(\"Radius Neighbours on spam data with R in [3, 20]\")\n",
    "print(evaluate_knn(spam_features, spam_labels, np.linspace(3, 20, 5), RNNClassifier))"
   ]
  },
  {
   "cell_type": "code",
   "execution_count": 25,
   "metadata": {},
   "outputs": [
    {
     "name": "stdout",
     "output_type": "stream",
     "text": [
      "Radius Neighbours on spam data with R in [4, 12]. Best values achieved in this interval\n",
      "[0.72592915 0.77613562 0.77244077 0.76396436 0.76200826]\n"
     ]
    }
   ],
   "source": [
    "print(\"Radius Neighbours on spam data with R in [4, 12]. Best values achieved in this interval\")\n",
    "print(evaluate_knn(spam_features, spam_labels, np.linspace(4, 12, 5), RNNClassifier))"
   ]
  },
  {
   "cell_type": "code",
   "execution_count": 22,
   "metadata": {},
   "outputs": [],
   "source": [
    "normed_cancer_features = MinMaxScaler().fit_transform(cancer_features)\n",
    "normed_spam_features = MinMaxScaler().fit_transform(spam_features)"
   ]
  },
  {
   "cell_type": "code",
   "execution_count": 23,
   "metadata": {},
   "outputs": [
    {
     "name": "stdout",
     "output_type": "stream",
     "text": [
      "kNN on normed cancer data with k in [1, 10]\n",
      "[0.95254833 0.95254833 0.97012302 0.97188049 0.96660808 0.96836555\n",
      " 0.97012302 0.97012302 0.97012302 0.97363796]\n",
      "kNN on normed spam data with k in [1, 10]\n",
      "[0.912193   0.912193   0.90523799 0.91088894 0.9048033  0.91088894\n",
      " 0.90067377 0.90936753 0.89806564 0.90306455]\n"
     ]
    }
   ],
   "source": [
    "print(\"kNN on normed cancer data with k in [1, 10]\")\n",
    "print(evaluate_knn(normed_cancer_features, cancer_labels, list(range(1, 11)), KNNClassifier))\n",
    "print(\"kNN on normed spam data with k in [1, 10]\")\n",
    "print(evaluate_knn(normed_spam_features, spam_labels, list(range(1, 11)), KNNClassifier))"
   ]
  },
  {
   "cell_type": "code",
   "execution_count": 24,
   "metadata": {},
   "outputs": [
    {
     "name": "stdout",
     "output_type": "stream",
     "text": [
      "Radius Neighbours on normed cancer data with R in [0.1, 2]\n",
      "[0.37258348 0.93321617 0.85764499 0.69947276 0.65026362]\n"
     ]
    }
   ],
   "source": [
    "print(\"Radius Neighbours on normed cancer data with R in [0.1, 2]\")\n",
    "print(evaluate_knn(normed_cancer_features, cancer_labels, np.linspace(0.1, 2, 5), RNNClassifier))"
   ]
  },
  {
   "cell_type": "code",
   "execution_count": 26,
   "metadata": {},
   "outputs": [
    {
     "name": "stdout",
     "output_type": "stream",
     "text": [
      "Radius Neighbours on normed cancer data with R in [0.2, 1]\n",
      "[0.4973638  0.91212654 0.9314587  0.92091388 0.87521968]\n"
     ]
    }
   ],
   "source": [
    "print(\"Radius Neighbours on normed cancer data with R in [0.2, 1]\")\n",
    "print(evaluate_knn(normed_cancer_features, cancer_labels, np.linspace(0.2, 1, 5), RNNClassifier))"
   ]
  },
  {
   "cell_type": "code",
   "execution_count": 30,
   "metadata": {},
   "outputs": [
    {
     "name": "stdout",
     "output_type": "stream",
     "text": [
      "Radius Neighbours on normed cancer data with R in [0.4, 0.8]. Best values achieved in this interval\n",
      "[0.91212654 0.92970123 0.9314587  0.93321617 0.92091388]\n"
     ]
    }
   ],
   "source": [
    "print(\"Radius Neighbours on normed cancer data with R in [0.4, 0.8]. Best values achieved in this interval\")\n",
    "print(evaluate_knn(normed_cancer_features, cancer_labels, np.linspace(0.4, 0.8, 5), RNNClassifier))"
   ]
  },
  {
   "cell_type": "code",
   "execution_count": 31,
   "metadata": {},
   "outputs": [
    {
     "name": "stdout",
     "output_type": "stream",
     "text": [
      "Radius Neighbours on normed spam data with R in [0.05, 2]\n",
      "[0.56552923 0.66746359 0.60378179 0.60617257 0.60595523]\n"
     ]
    }
   ],
   "source": [
    "print(\"Radius Neighbours on normed spam data with R in [0.05, 2]\")\n",
    "print(evaluate_knn(normed_spam_features, spam_labels, np.linspace(0.05, 2, 5), RNNClassifier))"
   ]
  },
  {
   "cell_type": "code",
   "execution_count": 32,
   "metadata": {},
   "outputs": [
    {
     "name": "stdout",
     "output_type": "stream",
     "text": [
      "Radius Neighbours on normed spam data with R in [0.1, 0.8]\n",
      "[0.6709411  0.80221691 0.71006303 0.63116714 0.61204086]\n"
     ]
    }
   ],
   "source": [
    "print(\"Radius Neighbours on normed spam data with R in [0.1, 0.8]\")\n",
    "print(evaluate_knn(normed_spam_features, spam_labels, np.linspace(0.1, 0.8, 5), RNNClassifier))"
   ]
  },
  {
   "cell_type": "code",
   "execution_count": 34,
   "metadata": {},
   "outputs": [
    {
     "name": "stdout",
     "output_type": "stream",
     "text": [
      "Radius Neighbours on normed spam data with R in [0.2, 0.4]. Best values achieved in this interval\n",
      "[0.79960878 0.80743317 0.79787003 0.78178657 0.74288198]\n"
     ]
    }
   ],
   "source": [
    "print(\"Radius Neighbours on normed spam data with R in [0.2, 0.4]\")\n",
    "print(evaluate_knn(normed_spam_features, spam_labels, np.linspace(0.2, 0.4, 5), RNNClassifier))"
   ]
  },
  {
   "cell_type": "code",
   "execution_count": 36,
   "metadata": {},
   "outputs": [
    {
     "name": "stdout",
     "output_type": "stream",
     "text": [
      "Radius Neighbours on normed spam data with R in [0.15, 0.35]. Best values achieved in this interval\n",
      "[0.7513584  0.79960878 0.80743317 0.79787003 0.78178657]\n"
     ]
    }
   ],
   "source": [
    "print(\"Radius Neighbours on normed spam data with R in [0.15, 0.35]. Best values achieved in this interval\")\n",
    "print(evaluate_knn(normed_spam_features, spam_labels, np.linspace(0.15, 0.35, 5), RNNClassifier))"
   ]
  }
 ],
 "metadata": {
  "kernelspec": {
   "display_name": "Python 3",
   "language": "python",
   "name": "python3"
  },
  "language_info": {
   "codemirror_mode": {
    "name": "ipython",
    "version": 3
   },
   "file_extension": ".py",
   "mimetype": "text/x-python",
   "name": "python",
   "nbconvert_exporter": "python",
   "pygments_lexer": "ipython3",
   "version": "3.6.5"
  }
 },
 "nbformat": 4,
 "nbformat_minor": 2
}
