{
 "cells": [
  {
   "cell_type": "code",
   "execution_count": 9,
   "metadata": {},
   "outputs": [],
   "source": [
    "import warnings\n",
    "warnings.filterwarnings('ignore')\n",
    "import os\n",
    "import copy\n",
    "import numpy as np\n",
    "import pandas as pd\n",
    "import matplotlib.pyplot as plt"
   ]
  },
  {
   "cell_type": "code",
   "execution_count": 75,
   "metadata": {},
   "outputs": [
    {
     "data": {
      "text/html": [
       "<div>\n",
       "<style scoped>\n",
       "    .dataframe tbody tr th:only-of-type {\n",
       "        vertical-align: middle;\n",
       "    }\n",
       "\n",
       "    .dataframe tbody tr th {\n",
       "        vertical-align: top;\n",
       "    }\n",
       "\n",
       "    .dataframe thead th {\n",
       "        text-align: right;\n",
       "    }\n",
       "</style>\n",
       "<table border=\"1\" class=\"dataframe\">\n",
       "  <thead>\n",
       "    <tr style=\"text-align: right;\">\n",
       "      <th></th>\n",
       "      <th>1</th>\n",
       "      <th>565</th>\n",
       "      <th>575</th>\n",
       "    </tr>\n",
       "  </thead>\n",
       "  <tbody>\n",
       "    <tr>\n",
       "      <th>0</th>\n",
       "      <td>2</td>\n",
       "      <td>25</td>\n",
       "      <td>185</td>\n",
       "    </tr>\n",
       "    <tr>\n",
       "      <th>1</th>\n",
       "      <td>3</td>\n",
       "      <td>345</td>\n",
       "      <td>750</td>\n",
       "    </tr>\n",
       "    <tr>\n",
       "      <th>2</th>\n",
       "      <td>4</td>\n",
       "      <td>945</td>\n",
       "      <td>685</td>\n",
       "    </tr>\n",
       "    <tr>\n",
       "      <th>3</th>\n",
       "      <td>5</td>\n",
       "      <td>845</td>\n",
       "      <td>655</td>\n",
       "    </tr>\n",
       "    <tr>\n",
       "      <th>4</th>\n",
       "      <td>6</td>\n",
       "      <td>880</td>\n",
       "      <td>660</td>\n",
       "    </tr>\n",
       "  </tbody>\n",
       "</table>\n",
       "</div>"
      ],
      "text/plain": [
       "   1  565  575\n",
       "0  2   25  185\n",
       "1  3  345  750\n",
       "2  4  945  685\n",
       "3  5  845  655\n",
       "4  6  880  660"
      ]
     },
     "execution_count": 75,
     "metadata": {},
     "output_type": "execute_result"
    }
   ],
   "source": [
    "tsp = pd.read_csv(\"../datasets/tsp.csv\")\n",
    "data = tsp.values[:, 1:]\n",
    "tsp.head()"
   ]
  },
  {
   "cell_type": "code",
   "execution_count": 17,
   "metadata": {},
   "outputs": [
    {
     "data": {
      "text/plain": [
       "39510"
      ]
     },
     "execution_count": 17,
     "metadata": {},
     "output_type": "execute_result"
    },
    {
     "data": {
      "image/png": "[encoded data removed]",
      "text/plain": [
       "<Figure size 432x288 with 1 Axes>"
      ]
     },
     "metadata": {
      "needs_background": "light"
     },
     "output_type": "display_data"
    }
   ],
   "source": [
    "def plot_path(X):\n",
    "    ps = []\n",
    "    for x in X:\n",
    "        if len(ps) == 0:\n",
    "            ps.append(x)\n",
    "        if ps[-1][0] != x[0] and ps[-1][1] != x[1]:\n",
    "            ps.append(np.array([ps[-1][0], x[1]]))\n",
    "            ps.append(x)\n",
    "    ps = np.array(ps)\n",
    "    plt.plot(ps[:, 0], ps[:, 1])\n",
    "    plt.scatter(ps[:, 0], ps[:, 1])\n",
    "    \n",
    "def path_len(X):\n",
    "    return np.sum(np.abs(X[1:, 0] - X[:-1, 0])) + np.sum(np.abs(X[1:, 1] - X[:-1, 1]))\n",
    "    \n",
    "plot_path(data)\n",
    "path_len(data)"
   ]
  },
  {
   "cell_type": "code",
   "execution_count": 62,
   "metadata": {},
   "outputs": [
    {
     "name": "stdout",
     "output_type": "stream",
     "text": [
      "26790\n"
     ]
    },
    {
     "data": {
      "image/png": "[encoded data removed]",
      "text/plain": [
       "<Figure size 432x288 with 1 Axes>"
      ]
     },
     "metadata": {
      "needs_background": "light"
     },
     "output_type": "display_data"
    }
   ],
   "source": [
    "def monte_carlo(X, n_iter=100000):\n",
    "    shortes_len = path_len(X)\n",
    "    best_path = None\n",
    "    for i in range(n_iter):\n",
    "        np.random.shuffle(X)\n",
    "        plen = path_len(X)\n",
    "        if plen < shortes_len:\n",
    "            shortes_len = plen\n",
    "            best_path = copy.copy(X)\n",
    "    print(shortes_len)\n",
    "    plot_path(best_path)\n",
    "    \n",
    "monte_carlo(copy.copy(data))"
   ]
  },
  {
   "cell_type": "code",
   "execution_count": 64,
   "metadata": {},
   "outputs": [
    {
     "name": "stdout",
     "output_type": "stream",
     "text": [
      "26575\n"
     ]
    },
    {
     "data": {
      "image/png": "[encoded data removed]",
      "text/plain": [
       "<Figure size 432x288 with 1 Axes>"
      ]
     },
     "metadata": {
      "needs_background": "light"
     },
     "output_type": "display_data"
    }
   ],
   "source": [
    "def random_walk(X, n_iter=100000):\n",
    "    shortes_len = path_len(X)\n",
    "    best_path = None\n",
    "    for i in range(n_iter):\n",
    "        a = np.random.randint(0, X.shape[0] - 1)\n",
    "        b = np.random.randint(0, X.shape[0] - 1)\n",
    "        ac, bc = copy.copy(X[a]), copy.copy(X[b])\n",
    "        X[a] = bc\n",
    "        X[b] = ac\n",
    "        plen = path_len(X)\n",
    "        if plen < shortes_len:\n",
    "            shortes_len = plen\n",
    "            best_path = copy.copy(X)\n",
    "    print(shortes_len)\n",
    "    plot_path(best_path)\n",
    "    \n",
    "random_walk(copy.copy(data))"
   ]
  },
  {
   "cell_type": "code",
   "execution_count": 65,
   "metadata": {},
   "outputs": [
    {
     "name": "stdout",
     "output_type": "stream",
     "text": [
      "13160\n"
     ]
    },
    {
     "data": {
      "image/png": "[encoded data removed]",
      "text/plain": [
       "<Figure size 432x288 with 1 Axes>"
      ]
     },
     "metadata": {
      "needs_background": "light"
     },
     "output_type": "display_data"
    }
   ],
   "source": [
    "def hill_climb(X, n_iter=10000):\n",
    "    shortes_len = path_len(X)\n",
    "    best_path = None\n",
    "    for i in range(n_iter):\n",
    "        cur_len = path_len(X)\n",
    "        point = np.random.randint(0, X.shape[0] - 1)\n",
    "        swp = point\n",
    "        for b in range(X.shape[0]):\n",
    "            pointc, bc = copy.copy(X[point]), copy.copy(X[b])\n",
    "            X[point] = bc\n",
    "            X[b] = pointc\n",
    "            swap_len = path_len(X)\n",
    "            if swap_len < cur_len:\n",
    "                swp = b\n",
    "                cur_len = swap_len\n",
    "            pointc, bc = copy.copy(X[point]), copy.copy(X[b])\n",
    "            X[point] = bc\n",
    "            X[b] = pointc\n",
    "        pointc, bc = copy.copy(X[point]), copy.copy(X[swp])\n",
    "        X[point] = bc\n",
    "        X[swp] = pointc\n",
    "    print(path_len(X))\n",
    "    plot_path(X)\n",
    "    \n",
    "hill_climb(copy.copy(data))"
   ]
  },
  {
   "cell_type": "code",
   "execution_count": 101,
   "metadata": {},
   "outputs": [
    {
     "name": "stdout",
     "output_type": "stream",
     "text": [
      "12300\n"
     ]
    },
    {
     "data": {
      "image/png": "[encoded data removed]",
      "text/plain": [
       "<Figure size 432x288 with 1 Axes>"
      ]
     },
     "metadata": {
      "needs_background": "light"
     },
     "output_type": "display_data"
    }
   ],
   "source": [
    "def simulated_annealing(X, n_iter=100000):\n",
    "    shortes_len = path_len(X)\n",
    "    best_path = None\n",
    "    cur_len = path_len(X)\n",
    "    for i in range(n_iter):\n",
    "        t = 1 / (i + 1)\n",
    "        a = np.random.randint(0, X.shape[0] - 1)\n",
    "        b = np.random.randint(0, X.shape[0] - 1)\n",
    "        ac, bc = copy.copy(X[a]), copy.copy(X[b])\n",
    "        X[a] = bc\n",
    "        X[b] = ac\n",
    "        plen = path_len(X)\n",
    "        if plen < cur_len or np.random.rand(1)[0] < np.exp(-(plen - cur_len) / t):\n",
    "            cur_len = plen\n",
    "            continue\n",
    "        ac, bc = copy.copy(X[a]), copy.copy(X[b])\n",
    "        X[a] = bc\n",
    "        X[b] = ac\n",
    "    print(path_len(X))\n",
    "    plot_path(X)\n",
    "    \n",
    "simulated_annealing(copy.copy(data))"
   ]
  },
  {
   "cell_type": "code",
   "execution_count": 114,
   "metadata": {},
   "outputs": [
    {
     "name": "stdout",
     "output_type": "stream",
     "text": [
      "11340\n"
     ]
    },
    {
     "data": {
      "image/png": "[encoded data removed]",
      "text/plain": [
       "<Figure size 432x288 with 1 Axes>"
      ]
     },
     "metadata": {
      "needs_background": "light"
     },
     "output_type": "display_data"
    }
   ],
   "source": [
    "def cross(x, y):\n",
    "    z = np.zeros_like(x)\n",
    "    n = np.random.randint(x.shape[0])\n",
    "    seen = set()\n",
    "    for i in range(n):\n",
    "        z[i] = x[i]\n",
    "        seen.add(tuple(x[i]))\n",
    "    ind = n\n",
    "    for i in range(n, y.shape[0]):\n",
    "        if tuple(y[i]) not in seen:\n",
    "            z[ind] = y[i]\n",
    "            ind += 1\n",
    "    for i in range(n - 1, -1, -1):\n",
    "        if tuple(y[i]) not in seen:\n",
    "            z[ind] = y[i]\n",
    "            ind += 1\n",
    "    return z\n",
    "\n",
    "def mutate(X):\n",
    "    if np.random.random() < 0.2:\n",
    "        a = np.random.randint(0, X.shape[0] - 1)\n",
    "        b = np.random.randint(0, X.shape[0] - 1)\n",
    "        ac, bc = copy.copy(X[a]), copy.copy(X[b])\n",
    "        X[a] = bc\n",
    "        X[b] = ac\n",
    "    return X\n",
    "\n",
    "def top(Xs, n=100):\n",
    "    Xs = sorted(Xs, key=lambda x: path_len(x))\n",
    "    return Xs[:n]\n",
    "\n",
    "def genetic_alg(X, n_iter=1000):\n",
    "    pop_size = 100\n",
    "    Xs = [np.random.permutation(X) for _ in range(pop_size)]\n",
    "    for it in range(n_iter):\n",
    "        nXs = []\n",
    "        for i in range(pop_size):\n",
    "            for j in range(2):\n",
    "                ind = np.random.randint(pop_size)\n",
    "                nXs.append(mutate(cross(Xs[i], Xs[ind])))\n",
    "        Xs = top(nXs, n=pop_size)\n",
    "    best_path = Xs[0]\n",
    "    print(path_len(best_path))\n",
    "    plot_path(best_path)\n",
    "    \n",
    "genetic_alg(copy.copy(data))"
   ]
  },
  {
   "cell_type": "code",
   "execution_count": null,
   "metadata": {},
   "outputs": [],
   "source": []
  }
 ],
 "metadata": {
  "kernelspec": {
   "display_name": "Python 3",
   "language": "python",
   "name": "python3"
  },
  "language_info": {
   "codemirror_mode": {
    "name": "ipython",
    "version": 3
   },
   "file_extension": ".py",
   "mimetype": "text/x-python",
   "name": "python",
   "nbconvert_exporter": "python",
   "pygments_lexer": "ipython3",
   "version": "3.7.0"
  }
 },
 "nbformat": 4,
 "nbformat_minor": 2
}
